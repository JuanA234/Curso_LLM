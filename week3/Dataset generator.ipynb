{
 "cells": [
  {
   "cell_type": "markdown",
   "id": "4450cc56-417a-46c8-81bc-b834baa321f9",
   "metadata": {},
   "source": [
    "# Dataset generator\n",
    "https://colab.research.google.com/drive/17theABXaTdCCm2qDpaA03ZK18iMWswS-\n"
   ]
  },
  {
   "cell_type": "code",
   "execution_count": null,
   "id": "98fc3548-1995-4792-9b74-8e5ed5bb50b1",
   "metadata": {},
   "outputs": [],
   "source": []
  }
 ],
 "metadata": {
  "kernelspec": {
   "display_name": "Python 3 (ipykernel)",
   "language": "python",
   "name": "python3"
  },
  "language_info": {
   "codemirror_mode": {
    "name": "ipython",
    "version": 3
   },
   "file_extension": ".py",
   "mimetype": "text/x-python",
   "name": "python",
   "nbconvert_exporter": "python",
   "pygments_lexer": "ipython3",
   "version": "3.11.11"
  }
 },
 "nbformat": 4,
 "nbformat_minor": 5
}
