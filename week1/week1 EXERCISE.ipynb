{
 "cells": [
  {
   "cell_type": "markdown",
   "id": "fe12c203-e6a6-452c-a655-afb8a03a4ff5",
   "metadata": {},
   "source": [
    "# End of week 1 exercise\n",
    "\n",
    "To demonstrate your familiarity with OpenAI API, and also Ollama, build a tool that takes a technical question,  \n",
    "and responds with an explanation. This is a tool that you will be able to use yourself during the course!"
   ]
  },
  {
   "cell_type": "code",
   "execution_count": 1,
   "id": "c1070317-3ed9-4659-abe3-828943230e03",
   "metadata": {},
   "outputs": [],
   "source": [
    "# imports\n",
    "import os\n",
    "from dotenv import load_dotenv\n",
    "from IPython.display import Markdown, display, update_display\n",
    "from openai import OpenAI"
   ]
  },
  {
   "cell_type": "code",
   "execution_count": 2,
   "id": "4a456906-915a-4bfd-bb9d-57e505c5093f",
   "metadata": {},
   "outputs": [],
   "source": [
    "# constants\n",
    "\n",
    "MODEL_GPT = 'gpt-4o-mini'\n",
    "MODEL_LLAMA = 'llama3.2'"
   ]
  },
  {
   "cell_type": "code",
   "execution_count": 5,
   "id": "a8d7923c-5f28-4c30-8556-342d7c8497c1",
   "metadata": {},
   "outputs": [
    {
     "name": "stdout",
     "output_type": "stream",
     "text": [
      "API key se ve muy bien\n"
     ]
    }
   ],
   "source": [
    "# set up environment\n",
    "load_dotenv(override=True)\n",
    "api_key = os.getenv('OPENAI_API_KEY')\n",
    "if api_key and api_key.startswith('sk-proj-') and len(api_key)>10:\n",
    "    print(\"API key se ve muy bien\")\n",
    "else:\n",
    "    print(\"There might be a problem with your API key? Please visit the troubleshooting notebook!\")\n",
    "openai = OpenAI()"
   ]
  },
  {
   "cell_type": "code",
   "execution_count": 47,
   "id": "01185df7-65c4-435c-8ba1-ae7198275023",
   "metadata": {},
   "outputs": [],
   "source": [
    "#Prompt del sistema\n",
    "system_prompt = \"Eres un experto en LLM, inteligencia artificial y python \\\n",
    "el cual se le van a proporcionar una o varias preguntas técnicas relacionadas a los temas a los que eres experto \\\n",
    "y tienes que responder de tal manera que un estudiante que es muy novato y apenas está aprendiendo entienda\""
   ]
  },
  {
   "cell_type": "code",
   "execution_count": 49,
   "id": "3f0d0137-52b0-47a8-81a8-11a90a010798",
   "metadata": {},
   "outputs": [],
   "source": [
    "# here is the question; type over this to ask something new\n",
    "\n",
    "question = \"\"\"\n",
    "Por favor explica que hace este código y porque:\n",
    "yield from {book.get(\"author\") for book in books if book.get(\"author\")}\n",
    "\"\"\""
   ]
  },
  {
   "cell_type": "code",
   "execution_count": 51,
   "id": "4341d6b5-a3e9-41a4-8674-311f0004b690",
   "metadata": {},
   "outputs": [],
   "source": [
    "# Prompt del usuario\n",
    "user_prompt = f\"Responde la siguiente pregunta en formato markdown: {question}\""
   ]
  },
  {
   "cell_type": "code",
   "execution_count": 94,
   "id": "e110012b-34e2-42b6-831f-f24987eafbe0",
   "metadata": {},
   "outputs": [],
   "source": [
    "# Crear la repuesta sin streaming\n",
    "def crear_respuesta():\n",
    "    response = openai.chat.completions.create(\n",
    "        model = MODEL_GPT,\n",
    "        messages = [\n",
    "            {\"role\":\"system\", \"content\": system_prompt},\n",
    "            {\"role\":\"user\", \"content\": user_prompt}\n",
    "        ],\n",
    "    )\n",
    "    result = response.choices[0].message.content\n",
    "    display(Markdown(result))"
   ]
  },
  {
   "cell_type": "code",
   "execution_count": 104,
   "id": "3f17e19c-1fb5-4d2a-8d84-a6c551ec913b",
   "metadata": {},
   "outputs": [
    {
     "data": {
      "text/markdown": [
       "Claro, te explicaré qué hace este código en Python de manera sencilla.\n",
       "\n",
       "### Explicación del código\n",
       "\n",
       "El código que compartiste es:\n",
       "\n",
       "```python\n",
       "yield from {book.get(\"author\") for book in books if book.get(\"author\")}\n",
       "```\n",
       "\n",
       "#### Desglose del código:\n",
       "\n",
       "1. **`{... for book in books if book.get(\"author\")}`**:\n",
       "   - Esta parte es una **comprensión de conjunto** (set comprehension). Se utiliza para crear un conjunto (set) nuevo a partir de una colección existente, que en este caso es `books`.\n",
       "   - Aquí, `books` se supone que es una lista (o cualquier iterable) que contiene libros, y cada libro es representado como un diccionario (un conjunto de pares clave-valor).\n",
       "   - **`book.get(\"author\")`** intenta obtener el autor del libro. La función `get` es segura porque si la clave \"author\" no existe en el diccionario, devolverá `None` en lugar de causar un error.\n",
       "   - **`if book.get(\"author\")`** asegura que solo se incluyan en el conjunto aquellos libros que efectivamente tienen un autor. Es decir, filtra los libros y sólo agrega a los que tienen un valor no nulo para \"author\".\n",
       "\n",
       "2. **`yield from`**:\n",
       "   - `yield from` es una palabra clave en Python que se utiliza dentro de una función generadora. Lo que hace es delegar la generación de valores a otro generador o iterable.\n",
       "   - En este caso, está \"generando\" los autores que fueron extraídos del conjunto que acabamos de crear.\n",
       "\n",
       "#### ¿Qué sucede en resumen?\n",
       "\n",
       "1. Se pasa por cada libro en la lista `books`.\n",
       "2. Se extraen los autores de los libros que tienen un autor definido.\n",
       "3. Se crea un conjunto de esos autores (un conjunto no tiene duplicados).\n",
       "4. Finalmente, `yield from` permite que la función devuelva cada autor uno por uno cuando sea llamada.\n",
       "\n",
       "### ¿Por qué se utiliza este código?\n",
       "\n",
       "- **Eficiencia**: Al usar un conjunto, se asegura que cada autor aparezca solo una vez, eliminando duplicados.\n",
       "- **Generadores**: Al usar `yield from`, se puede manejar la salida de una manera más eficiente, permitiendo que el código sea más fácil de utilizar en bucles o cualquier otro lugar en el que se necesiten los autores.\n",
       "\n",
       "### Conclusión\n",
       "\n",
       "Este código es útil para extraer y liberar (uno por uno) una lista única de autores de una lista de libros, asegurando que no haya repeticiones. Esto es muy común en el procesamiento de datos, donde queremos filtrar y generar información de manera eficiente."
      ],
      "text/plain": [
       "<IPython.core.display.Markdown object>"
      ]
     },
     "metadata": {},
     "output_type": "display_data"
    }
   ],
   "source": [
    "crear_respuesta()"
   ]
  },
  {
   "cell_type": "code",
   "execution_count": 167,
   "id": "60ce7000-a4a5-4cce-a261-e75ef45063b4",
   "metadata": {},
   "outputs": [],
   "source": [
    "# Get gpt-4o-mini to answer, with streaming\n",
    "def stream_respuesta():\n",
    "    stream = openai.chat.completions.create(\n",
    "        model = MODEL_GPT,\n",
    "        messages = [\n",
    "            {\"role\":\"system\", \"content\": system_prompt},\n",
    "            {\"role\":\"user\", \"content\": user_prompt}\n",
    "        ],\n",
    "        stream = True\n",
    "    )\n",
    "    response = \"\"\n",
    "    display_handle = display(Markdown(\"\"), display_id=True)\n",
    "    for chunk in stream:\n",
    "        response += chunk.choices[0].delta.content or ''\n",
    "        #response = response.replace(\"```\", \"\").replace(\"markdown\",\"\")\n",
    "        update_display(Markdown(response), display_id=display_handle.display_id)"
   ]
  },
  {
   "cell_type": "code",
   "execution_count": 169,
   "id": "e99774fc-8748-4e49-835d-37d5738629cb",
   "metadata": {},
   "outputs": [
    {
     "data": {
      "text/markdown": [
       "Claro, voy a desglosar el código que has proporcionado para que sea fácil de entender.\n",
       "\n",
       "```python\n",
       "yield from {book.get(\"author\") for book in books if book.get(\"author\")}\n",
       "```\n",
       "\n",
       "### Explicación del Código\n",
       "\n",
       "1. **Contexto General**:\n",
       "   - Este código es parte de una función generadora en Python, que usa `yield` para devolver un valor. Las funciones generadoras permiten producir una serie de valores a lo largo del tiempo, sin tener que generar todos a la vez.\n",
       "\n",
       "2. **Comprensión de Conjuntos**:\n",
       "   - La parte `{book.get(\"author\") for book in books if book.get(\"author\")}` es una **comprensión de conjuntos** (set comprehension). Esto crea un nuevo conjunto (un tipo de colección en Python) que contiene ciertos elementos.\n",
       "\n",
       "   - **¿Qué hace este fragmento específicamente?**:\n",
       "     - `for book in books`: Aquí se está iterando sobre una lista llamada `books`, donde cada `book` es un elemento de esa lista (normalmente, se espera que sea un diccionario que representa un libro).\n",
       "     - `book.get(\"author\")`: Esto intenta obtener el valor asociado a la clave `\"author\"` del diccionario `book`. Si no existe, devuelve `None`.\n",
       "     - `if book.get(\"author\")`: Esta parte filtra los libros, de modo que solo se incluyan aquellos que tienen un autor definido (es decir, no deben ser `None`).\n",
       "\n",
       "   - Al final, todo esto genera un conjunto de autores de los libros.\n",
       "\n",
       "3. **Uso de `yield from`**:\n",
       "   - `yield from` permite a una función generadora devolver cada elemento de un iterable (en este caso, el conjunto de autores) uno por uno.\n",
       "   - En este código, se está diciendo \"devuelve cada autor del conjunto que hemos creado\".\n",
       "\n",
       "### Resumen\n",
       "\n",
       "- Este código genera un conjunto de autores a partir de una lista de libros, excluyendo los que no tienen un autor definido, y luego devuelve cada autor uno por uno en una función generadora.\n",
       "\n",
       "### Ejemplo Visual\n",
       "\n",
       "Imagina que tienes la siguiente lista de libros:\n",
       "\n",
       "```python\n",
       "books = [\n",
       "    {\"title\": \"Book 1\", \"author\": \"Author A\"},\n",
       "    {\"title\": \"Book 2\", \"author\": None},\n",
       "    {\"title\": \"Book 3\", \"author\": \"Author B\"},\n",
       "]\n",
       "```\n",
       "\n",
       "Con el código, obtendrías:\n",
       "\n",
       "- Un conjunto de autores: `{\"Author A\", \"Author B\"}`.\n",
       "- Y cuando llames a la función generadora, te devolverá `\"Author A\"` y luego `\"Author B\"`.\n",
       "\n",
       "Espero que esta explicación te haya ayudado a entender el código. Si tienes más preguntas, no dudes en preguntar."
      ],
      "text/plain": [
       "<IPython.core.display.Markdown object>"
      ]
     },
     "metadata": {},
     "output_type": "display_data"
    }
   ],
   "source": [
    "stream_respuesta()"
   ]
  },
  {
   "cell_type": "code",
   "execution_count": 186,
   "id": "8f7c8ea8-4082-4ad0-8751-3301adcf6538",
   "metadata": {},
   "outputs": [],
   "source": [
    "# Get Llama 3.2 to answer\n",
    "import ollama\n",
    "\n",
    "def stream_respuesta_ollama():\n",
    "    stream = ollama.chat(\n",
    "        model = MODEL_LLAMA,\n",
    "        messages = [\n",
    "            {\"role\":\"system\", \"content\": system_prompt},\n",
    "            {\"role\":\"user\", \"content\": user_prompt}\n",
    "        ],\n",
    "        stream = True\n",
    "    )\n",
    "    response = \"\"\n",
    "    display_handle = display(Markdown(\"\"), display_id=True)\n",
    "    for chunk in stream:\n",
    "        response += chunk['message']['content'] or ''\n",
    "        #response = response.replace(\"```\", \"\").replace(\"markdown\",\"\")\n",
    "        update_display(Markdown(response), display_id=display_handle.display_id)"
   ]
  },
  {
   "cell_type": "code",
   "execution_count": 188,
   "id": "8720ec33-507e-42df-87a0-85ddfd184ec3",
   "metadata": {},
   "outputs": [
    {
     "data": {
      "text/markdown": [
       "**Análisis del Código**\n",
       "\n",
       "El código proporcionado es una expresión generadora en Python, utilizada para obtener los autores de una lista de libros (`books`). A continuación, se explica qué hace cada parte del código y por qué.\n",
       "\n",
       "### **`yield from`**\n",
       "\n",
       "La palabra clave `yield from` es un método de generación similar a `yield`, pero con algunas diferencias importantes. En lugar de producir un valor directamente en la expresión, `yield from` devuelve una especie de \"llamada\" a otra expresión, que ejecuta y devolverá sus valores.\n",
       "\n",
       "En este caso, `yield from` se utiliza para generar los autores de cada libro en la lista (`books`). En lugar de tener que utilizar un bucle (`for`) o expresiones condicionales para obtener el autor correcto, podemos aprovechar el método `get()` de la lista para buscar directamente el valor deseado.\n",
       "\n",
       "### **`{book.get(\"author\") for book in books if book.get(\"author\")}`**\n",
       "\n",
       "La expresión entre llaves es una expresión generadora que se utiliza para generar los autores de cada libro en la lista. A continuación, se explica cómo funciona:\n",
       "\n",
       "*   **`for book in books`**: Este bucle recorre cada elemento (`book`) en la lista (`books`).\n",
       "*   **`if book.get(\"author\")`**: En cada iteración del bucle, se verifica si el libro tiene un autor utilizando el método `get()` con la clave `\"author\"`. Si el autor no existe, el valor será `None`.\n",
       "*   **`book.get(\"author\")`**: Si el autor existe, se devuelve su valor (el nombre real del autor).\n",
       "\n",
       "**Por qué `yield from` es utilizado aquí?**\n",
       "\n",
       "En este caso, podemos utilizar `yield from` porque la expresión dentro de las llaves (`{book.get(\"author\") for book in books if book.get(\"author\")}`) ya utiliza un bucle para recorrer los libros y obtener sus autores. Por lo tanto, en lugar de tener que utilizar otro bucle o expresiones condicionales, podemos aprovechar el método `yield from` para generar los autores de manera más concisa.\n",
       "\n",
       "**Resumen**\n",
       "\n",
       "El código utiliza la expresión generadora `{book.get(\"author\") for book in books if book.get(\"author\")}` para obtener los autores de cada libro en la lista. La palabra clave `yield from` se utiliza para generar esta expresión y producir sus valores directamente en lugar de tener que utilizar un bucle o expresiones condicionales adicionales.\n",
       "\n",
       "**Ejemplo con una lista de libros**\n",
       "\n",
       "```python\n",
       "books = [\n",
       "    {\"title\": \"Libro 1\", \"author\": \"Author A\"},\n",
       "    {\"title\": \"Libro 2\", \"author\": \"Author B\"},\n",
       "    {\"title\": \"Libro 3\"}\n",
       "]\n",
       "\n",
       "autores = yield from {book.get(\"author\") for book in books if book.get(\"author\")}\n",
       "print(autores)  # Output: ['Author A', 'Author B']\n",
       "```\n",
       "\n",
       "En este ejemplo, se define una lista de libros (`books`) con algunos autores y título. Luego, la expresión generadora es utilizada para obtener los autores de cada libro y imprimirlos en el console."
      ],
      "text/plain": [
       "<IPython.core.display.Markdown object>"
      ]
     },
     "metadata": {},
     "output_type": "display_data"
    }
   ],
   "source": [
    "stream_respuesta_ollama()"
   ]
  }
 ],
 "metadata": {
  "kernelspec": {
   "display_name": "Python [conda env:base] *",
   "language": "python",
   "name": "conda-base-py"
  },
  "language_info": {
   "codemirror_mode": {
    "name": "ipython",
    "version": 3
   },
   "file_extension": ".py",
   "mimetype": "text/x-python",
   "name": "python",
   "nbconvert_exporter": "python",
   "pygments_lexer": "ipython3",
   "version": "3.11.7"
  }
 },
 "nbformat": 4,
 "nbformat_minor": 5
}
