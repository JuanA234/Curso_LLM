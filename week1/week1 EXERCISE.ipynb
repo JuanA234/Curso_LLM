{
 "cells": [
  {
   "cell_type": "markdown",
   "id": "fe12c203-e6a6-452c-a655-afb8a03a4ff5",
   "metadata": {},
   "source": [
    "# End of week 1 exercise\n",
    "\n",
    "To demonstrate your familiarity with OpenAI API, and also Ollama, build a tool that takes a technical question,  \n",
    "and responds with an explanation. This is a tool that you will be able to use yourself during the course!"
   ]
  },
  {
   "cell_type": "code",
   "execution_count": 1,
   "id": "c1070317-3ed9-4659-abe3-828943230e03",
   "metadata": {},
   "outputs": [],
   "source": [
    "# imports\n",
    "import os\n",
    "from dotenv import load_dotenv\n",
    "from IPython.display import Markdown, display, update_display\n",
    "from openai import OpenAI"
   ]
  },
  {
   "cell_type": "code",
   "execution_count": 2,
   "id": "4a456906-915a-4bfd-bb9d-57e505c5093f",
   "metadata": {},
   "outputs": [],
   "source": [
    "# constants\n",
    "\n",
    "MODEL_GPT = 'gpt-4o-mini'\n",
    "MODEL_LLAMA = 'llama3.2'"
   ]
  },
  {
   "cell_type": "code",
   "execution_count": 3,
   "id": "a8d7923c-5f28-4c30-8556-342d7c8497c1",
   "metadata": {},
   "outputs": [
    {
     "name": "stdout",
     "output_type": "stream",
     "text": [
      "API key se ve muy bien\n"
     ]
    }
   ],
   "source": [
    "# set up environment\n",
    "load_dotenv(override=True)\n",
    "api_key = os.getenv('OPENAI_API_KEY')\n",
    "if api_key and api_key.startswith('sk-proj-') and len(api_key)>10:\n",
    "    print(\"API key se ve muy bien\")\n",
    "else:\n",
    "    print(\"There might be a problem with your API key? Please visit the troubleshooting notebook!\")\n",
    "openai = OpenAI()"
   ]
  },
  {
   "cell_type": "code",
   "execution_count": 4,
   "id": "01185df7-65c4-435c-8ba1-ae7198275023",
   "metadata": {},
   "outputs": [],
   "source": [
    "#Prompt del sistema\n",
    "system_prompt = \"Eres un experto en LLM, inteligencia artificial y python \\\n",
    "el cual se le van a proporcionar una o varias preguntas técnicas relacionadas a los temas a los que eres experto \\\n",
    "y tienes que responder de tal manera que un estudiante que es muy novato y apenas está aprendiendo entienda\""
   ]
  },
  {
   "cell_type": "code",
   "execution_count": 5,
   "id": "3f0d0137-52b0-47a8-81a8-11a90a010798",
   "metadata": {},
   "outputs": [],
   "source": [
    "# here is the question; type over this to ask something new\n",
    "\n",
    "question = \"\"\"\n",
    "Por favor explica que hace este código y porque:\n",
    "yield from {book.get(\"author\") for book in books if book.get(\"author\")}\n",
    "\"\"\""
   ]
  },
  {
   "cell_type": "code",
   "execution_count": 6,
   "id": "4341d6b5-a3e9-41a4-8674-311f0004b690",
   "metadata": {},
   "outputs": [],
   "source": [
    "# Prompt del usuario\n",
    "user_prompt = f\"Responde la siguiente pregunta en formato markdown: {question}\""
   ]
  },
  {
   "cell_type": "code",
   "execution_count": 7,
   "id": "e110012b-34e2-42b6-831f-f24987eafbe0",
   "metadata": {},
   "outputs": [],
   "source": [
    "# Crear la repuesta sin streaming\n",
    "def crear_respuesta():\n",
    "    response = openai.chat.completions.create(\n",
    "        model = MODEL_GPT,\n",
    "        messages = [\n",
    "            {\"role\":\"system\", \"content\": system_prompt},\n",
    "            {\"role\":\"user\", \"content\": user_prompt}\n",
    "        ],\n",
    "    )\n",
    "    result = response.choices[0].message.content\n",
    "    display(Markdown(result))"
   ]
  },
  {
   "cell_type": "code",
   "execution_count": 8,
   "id": "3f17e19c-1fb5-4d2a-8d84-a6c551ec913b",
   "metadata": {},
   "outputs": [
    {
     "data": {
      "text/markdown": [
       "¡Claro! Vamos a desglosar este código paso a paso para que puedas entenderlo.\n",
       "\n",
       "```python\n",
       "yield from {book.get(\"author\") for book in books if book.get(\"author\")}\n",
       "```\n",
       "\n",
       "### Explicación del código\n",
       "\n",
       "1. **Contexto**: Supongamos que `books` es una lista de diccionarios. Cada diccionario representa un libro y contiene información sobre el mismo, como el autor, el título, etc. Por ejemplo:\n",
       "\n",
       "   ```python\n",
       "   books = [\n",
       "       {\"title\": \"Libro A\", \"author\": \"Autor A\"},\n",
       "       {\"title\": \"Libro B\", \"author\": \"Autor B\"},\n",
       "       {\"title\": \"Libro C\", \"author\": None},\n",
       "   ]\n",
       "   ```\n",
       "\n",
       "2. **Comprensión de conjunto**: El fragmento de código `{book.get(\"author\") for book in books if book.get(\"author\")}` es una **comprensión de conjunto**. Esto significa que estamos creando un conjunto (que es una colección de elementos únicos) a partir de la lista `books`.\n",
       "\n",
       "   - `for book in books`: Esto itera sobre cada libro en la lista `books`.\n",
       "   - `book.get(\"author\")`: Este método intenta obtener el valor de la clave \"author\" de cada libro. Si la clave no existe o su valor es `None`, no se considera.\n",
       "   - `if book.get(\"author\")`: Aquí filtramos para asegurarnos de que solo estamos recogiendo autores que realmente existen (es decir, que no son `None` o una cadena vacía).\n",
       "\n",
       "   Entonces, si el conjunto `authors` resultante de la anterior comprensión de conjunto es `{\"Autor A\", \"Autor B\"}`, significa que hemos recogido solo los autores válidos.\n",
       "\n",
       "3. **`yield from`**: Esta parte `yield from` se utiliza dentro de una función generadora. Permite que una función generadora produzca valores de otro generador o iterable. En este caso, está generando todos los valores del conjunto de autores que hemos creado.\n",
       "\n",
       "   Esto es útil porque permite que la función que contiene este código pueda ir devolviendo uno a uno los autores sin necesidad de cargar todo en memoria a la vez, lo que es más eficiente.\n",
       "\n",
       "### Resumen\n",
       "\n",
       "- **Qué hace**: El código recoge todos los autores de los libros en la lista `books`, ignorando aquellos donde el autor no está disponible, y devuelve cada uno de ellos, uno a uno, a través de una función generadora.\n",
       "  \n",
       "- **Por qué**: Usamos un conjunto para asegurarnos de que no haya duplicados en los autores. Y `yield from` permite que la función generadora produzca estos autores de forma eficiente.\n",
       "\n",
       "Con esto, espero que tengas una mejor comprensión de lo que hace este código y por qué se utiliza de esta manera. ¡Si tienes más preguntas, no dudes en preguntar!"
      ],
      "text/plain": [
       "<IPython.core.display.Markdown object>"
      ]
     },
     "metadata": {},
     "output_type": "display_data"
    }
   ],
   "source": [
    "crear_respuesta()"
   ]
  },
  {
   "cell_type": "code",
   "execution_count": 9,
   "id": "60ce7000-a4a5-4cce-a261-e75ef45063b4",
   "metadata": {},
   "outputs": [],
   "source": [
    "# Get gpt-4o-mini to answer, with streaming\n",
    "def stream_respuesta():\n",
    "    stream = openai.chat.completions.create(\n",
    "        model = MODEL_GPT,\n",
    "        messages = [\n",
    "            {\"role\":\"system\", \"content\": system_prompt},\n",
    "            {\"role\":\"user\", \"content\": user_prompt}\n",
    "        ],\n",
    "        stream = True\n",
    "    )\n",
    "    response = \"\"\n",
    "    display_handle = display(Markdown(\"\"), display_id=True)\n",
    "    for chunk in stream:\n",
    "        response += chunk.choices[0].delta.content or ''\n",
    "        #response = response.replace(\"```\", \"\").replace(\"markdown\",\"\")\n",
    "        update_display(Markdown(response), display_id=display_handle.display_id)"
   ]
  },
  {
   "cell_type": "code",
   "execution_count": 10,
   "id": "e99774fc-8748-4e49-835d-37d5738629cb",
   "metadata": {},
   "outputs": [
    {
     "data": {
      "text/markdown": [
       "Claro, vamos a desglosar este código línea por línea para que sea más fácil de entender.\n",
       "\n",
       "### Explicación del Código\n",
       "\n",
       "```python\n",
       "yield from {book.get(\"author\") for book in books if book.get(\"author\")}\n",
       "```\n",
       "\n",
       "1. **`{...}`**: Al inicio vemos llaves `{}`. Esto indica que estamos creando un conjunto (set en inglés). Un conjunto es una colección que no admite duplicados, es decir, solo guardará valores únicos.\n",
       "\n",
       "2. **`for book in books`**: Esta parte es un bucle que itera (o pasa por cada elemento) de la lista `books`. Aquí, `books` debería ser una lista (o cualquier tipo de iterable) que contiene elementos, y cada uno de esos elementos se asigna a la variable `book` en cada iteración.\n",
       "\n",
       "3. **`book.get(\"author\")`**: Esto intenta obtener el valor asociado a la clave `\"author\"` de cada `book`. `get` es un método que devuelve el valor de la clave especificada si existe, de lo contrario devuelve `None`. Este método es útil porque evita errores si la clave no existe.\n",
       "\n",
       "4. **`if book.get(\"author\")`**: Esta es una condición que se asegura de que solo se añadan al conjunto aquellos libros que efectivamente tienen un autor definido. Si `book.get(\"author\")` devuelve `None` (lo que significa que no hay autor), entonces ese libro no se incluye en el conjunto.\n",
       "\n",
       "5. **`yield from ...`**: La palabra clave `yield` se utiliza en las funciones generadoras en Python. Al usar `yield from`, estamos delegando la producción de los valores generados por el conjunto que hemos creado. Esto significa que, en vez de devolver el conjunto completo de una vez, se van devolviendo elementos uno por uno.\n",
       "\n",
       "### Resumen\n",
       "\n",
       "En resumen, este código crea un conjunto de autores únicos a partir de una lista de libros. Solo se incluyen a aquellos libros que realmente tienen un autor especificado. Luego, con `yield from`, este conjunto se produce de manera que se puede iterar a través de él de forma eficiente.\n",
       "\n",
       "### ¿Por qué es útil?\n",
       "\n",
       "- **Eficiencia**: Al usar un conjunto, nos aseguramos de no tener duplicados. Por ejemplo, si varios libros son del mismo autor, solo se devolverá ese autor una vez.\n",
       "- **Manejo de valores faltantes**: Ignora libros que no tienen autor, evitando errores o valores indeseados en la colección resultante.\n",
       "\n",
       "Espero que esto te ayude a entender mejor lo que hace este código. Si tienes más preguntas, ¡no dudes en preguntar!"
      ],
      "text/plain": [
       "<IPython.core.display.Markdown object>"
      ]
     },
     "metadata": {},
     "output_type": "display_data"
    }
   ],
   "source": [
    "stream_respuesta()"
   ]
  },
  {
   "cell_type": "code",
   "execution_count": 15,
   "id": "8f7c8ea8-4082-4ad0-8751-3301adcf6538",
   "metadata": {},
   "outputs": [],
   "source": [
    "# Get Llama 3.2 to answer\n",
    "import ollama\n",
    "\n",
    "def stream_respuesta_ollama():\n",
    "    stream = ollama.chat(\n",
    "        model = MODEL_LLAMA,\n",
    "        messages = [\n",
    "            {\"role\":\"system\", \"content\": system_prompt},\n",
    "            {\"role\":\"user\", \"content\": user_prompt}\n",
    "        ],\n",
    "        stream = True\n",
    "    )\n",
    "    response = ''\n",
    "    display_handle = display(Markdown(\"\"), display_id=True)\n",
    "    for chunk in stream:\n",
    "        response += chunk['message']['content'] or ''\n",
    "        #response = response.replace(\"```\", \"\").replace(\"markdown\",\"\")\n",
    "        update_display(Markdown(response), display_id=display_handle.display_id)"
   ]
  },
  {
   "cell_type": "code",
   "execution_count": 16,
   "id": "8720ec33-507e-42df-87a0-85ddfd184ec3",
   "metadata": {},
   "outputs": [
    {
     "data": {
      "text/markdown": [
       "**Análisis del Código**\n",
       "=====================================\n",
       "\n",
       "El código proporcionado es un ejemplo de uso de la función `yield from` en Python, que se utiliza para generar una secuencia de valores.\n",
       "\n",
       "```python\n",
       "yield from {book.get(\"author\") for book in books if book.get(\"author\")}\n",
       "```\n",
       "\n",
       "### Componentes del Código\n",
       "\n",
       "*   **`{book.get(\"author\") for book in books if book.get(\"author\")}`**: Esta es una expresión generadora que utiliza un método de listado (list comprehension) para crear una secuencia de valores.\n",
       "    *   `for book in books`: Itera sobre cada elemento en la lista `books`.\n",
       "    *   `if book.get(\"author\")`: Filtera los elementos para solo incluir aquellos que tengan un valor asociado a la clave `\"author\"`. Si el valor es `None`, se considerará como falso y no será incluido en la secuencia.\n",
       "    *   `book.get(\"author\")`: Extrae el valor asociado a la clave `\"author\"` del objeto `book`.\n",
       "\n",
       "### Uso de `yield from`\n",
       "\n",
       "*   **`yield from {...}`**: Esta es una forma de implementar un generador que permite que otra función devuelva una secuencia de valores sin necesidad de crear una lista en memoria.\n",
       "    *   El `yield from` permite que la secuencia creada por el método de listado se convierta en un generador, lo que significa que se puede utilizar para producir un número infinito de valores en lugar de crear una lista completa en memoria.\n",
       "\n",
       "### Efectos del Código\n",
       "\n",
       "En resumen, este código:\n",
       "\n",
       "1.  Itera sobre cada elemento en la lista `books`.\n",
       "2.  Filtra los elementos para solo incluir aquellos que tengan un valor asociado a la clave `\"author\"`.\n",
       "3.  Extrae el valor asociado a la clave `\"author\"` de cada elemento filtrado.\n",
       "4.  Genera una secuencia de valores utilizando el método de listado.\n",
       "\n",
       "### Por Qué se Utiliza\n",
       "\n",
       "Se utiliza este código cuando se necesita generar una secuencia de valores que contienen información específica (en este caso, los autores de libros) sin necesidad de crear una lista completa en memoria. Esto es especialmente útil cuando se trabaja con grandes conjuntos de datos y se necesita optimizar el uso de la memoria.\n",
       "\n",
       "**Ejemplo Aplicado**\n",
       "--------------------\n",
       "\n",
       "Supongamos que tienes una lista de libros con información sobre sus autores, y quieres generar una secuencia de los nombres de los autores. Puedes utilizar este código:\n",
       "\n",
       "```python\n",
       "books = [\n",
       "    {\"title\": \"Libro 1\", \"author\": \"Autor A\"},\n",
       "    {\"title\": \"Libro 2\", \"author\": None},\n",
       "    {\"title\": \"Libro 3\", \"author\": \"Autor B\"}\n",
       "]\n",
       "\n",
       "autores = yield from {book.get(\"author\") for book in books if book.get(\"author\")}\n",
       "print(autores)  # Salida: ['Autor A', 'Autor B']\n",
       "```\n",
       "\n",
       "En este ejemplo, el código se utiliza para generar una secuencia de los nombres de los autores de los libros que tienen un valor asociado a la clave `\"author\"`."
      ],
      "text/plain": [
       "<IPython.core.display.Markdown object>"
      ]
     },
     "metadata": {},
     "output_type": "display_data"
    }
   ],
   "source": [
    "stream_respuesta_ollama()"
   ]
  }
 ],
 "metadata": {
  "kernelspec": {
   "display_name": "Python 3 (ipykernel)",
   "language": "python",
   "name": "python3"
  },
  "language_info": {
   "codemirror_mode": {
    "name": "ipython",
    "version": 3
   },
   "file_extension": ".py",
   "mimetype": "text/x-python",
   "name": "python",
   "nbconvert_exporter": "python",
   "pygments_lexer": "ipython3",
   "version": "3.11.11"
  }
 },
 "nbformat": 4,
 "nbformat_minor": 5
}
